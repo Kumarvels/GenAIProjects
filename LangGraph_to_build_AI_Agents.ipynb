{
  "nbformat": 4,
  "nbformat_minor": 0,
  "metadata": {
    "colab": {
      "private_outputs": true,
      "provenance": [],
      "authorship_tag": "ABX9TyMlbmbskKS7JoHOhdljRYfC",
      "include_colab_link": true
    },
    "kernelspec": {
      "name": "python3",
      "display_name": "Python 3"
    },
    "language_info": {
      "name": "python"
    }
  },
  "cells": [
    {
      "cell_type": "markdown",
      "metadata": {
        "id": "view-in-github",
        "colab_type": "text"
      },
      "source": [
        "<a href=\"https://colab.research.google.com/github/Kumarvels/GenAIProjects/blob/main/LangGraph_to_build_AI_Agents.ipynb\" target=\"_parent\"><img src=\"https://colab.research.google.com/assets/colab-badge.svg\" alt=\"Open In Colab\"/></a>"
      ]
    },
    {
      "cell_type": "markdown",
      "source": [
        "\n",
        "# Building an AI Agent with LangGraph in Google Colab\n",
        "# Usecase for to build a simple AI agent using LangGraph to calculate solar  panel energy savings\n",
        "This notebook demonstrates how to build a simple AI agent using LangGraph to calculate solar panel energy savings. The agent will:\n",
        "- Interact with the user to gather inputs (e.g., electricity cost).\n",
        "- Use a tool node to compute savings.\n",
        "- Display the results.\n",
        "\n"
      ],
      "metadata": {
        "id": "2hBhI2ihitPb"
      }
    },
    {
      "cell_type": "markdown",
      "source": [
        "2: Install Required Libraries\n",
        "\n",
        "Step 2.1: Install LangChain, LangGraph, and Other Dependencies\n",
        "In a new code cell, run the following command to install the required libraries\n",
        "\n",
        "Explanation:\n",
        "langchain: Core library for building language model workflows.\n",
        "\n",
        "langgraph: Extension for creating stateful, multi-agent workflows with cycles.\n",
        "\n",
        "langchain-community: Community-contributed tools and integrations.\n",
        "\n",
        "langchain-core: Core components of LangChain.\n",
        "\n",
        "langchain-openai: Integration with OpenAI models (we’ll use this for the language model).\n",
        "\n",
        "python-dotenv: For managing environment variables (e.g., API keys).\n",
        "\n",
        "\n"
      ],
      "metadata": {
        "id": "ge_jyLHmjq_G"
      }
    },
    {
      "cell_type": "code",
      "execution_count": null,
      "metadata": {
        "id": "1UuBx98CcOPC"
      },
      "outputs": [],
      "source": [
        "!pip install langchain langgraph langchain-community langchain-core langchain-openai python-dotenv"
      ]
    },
    {
      "cell_type": "markdown",
      "source": [
        "Step 2.2: Install Additional Tools (Optional)\n",
        "\n",
        "If you plan to use Google’s Gemini model, you’ll need the Google Generative AI package\n",
        "\n",
        "\n",
        "\n"
      ],
      "metadata": {
        "id": "5O1cDPMAkWz_"
      }
    },
    {
      "cell_type": "code",
      "source": [
        "!pip install langchain-google-genai"
      ],
      "metadata": {
        "id": "nzoYJG9ekkey"
      },
      "execution_count": null,
      "outputs": []
    },
    {
      "cell_type": "markdown",
      "source": [
        "Step 2.3: Verify Installation\n",
        "\n",
        "Add a code cell to check the installed versions\n",
        "\n",
        "LangChain and LangGraph are frameworks for building applications that use large language models (LLMs), but they differ in their approach to workflow management.\n",
        "\n",
        "LangChain is designed for simple, linear workflows\n",
        "\n",
        "LangGraph focuses on complex, graph-based workflows, making it suitable for agentic and multi-actor scenarios\n",
        "\n",
        "Key Differences:\n",
        "\n",
        "Workflow Architecture:\n",
        "LangChain uses a linear, chain-based architecture, while LangGraph uses a graph-based architecture, allowing for more complex and dynamic workflows.\n",
        "\n",
        "Agentic Systems:\n",
        "LangGraph is particularly well-suited for building agentic systems, where multiple agents interact and collaborate, while LangChain is more focused on simpler, sequential tasks.\n",
        "\n",
        "State Management:\n",
        "LangGraph provides built-in support for managing state, which is crucial for complex workflows where context and information need to be carried across different steps.\n",
        "\n",
        "Flexibility:\n",
        "LangGraph offers greater flexibility and control over workflow design, allowing for dynamic branching, loops, and other complex control flow patterns.\n",
        "\n",
        "Scalability:\n",
        "Both frameworks are designed to be scalable, but LangGraph's graph-based architecture allows for more easily handling complex workflows with multiple agents and interactions."
      ],
      "metadata": {
        "id": "uulBivvVmQnd"
      }
    },
    {
      "cell_type": "code",
      "source": [
        "import langchain\n",
        "import langgraph\n",
        "print(\"LangChain version:\", langchain.__version__)"
      ],
      "metadata": {
        "id": "aaM3sCRLmaGl"
      },
      "execution_count": null,
      "outputs": []
    },
    {
      "cell_type": "markdown",
      "source": [
        "3: Set Up API Keys and Environment Variables\n",
        "\n",
        "Step 3.1: Obtain an OpenAI API Key\n",
        "Go to OpenAI, sign up/log in, and generate an API key.\n",
        "\n",
        "Alternatively, if using Google’s Gemini model, get an API key from Google AI Studio.\n",
        "\n",
        "Step 3.2: Store the API Key Securely in Colab\n",
        "Use Google Colab’s user input feature to securely input your API key without hardcoding it\n",
        "\n"
      ],
      "metadata": {
        "id": "CDyOAsL4o8_k"
      }
    },
    {
      "cell_type": "code",
      "source": [],
      "metadata": {
        "id": "NsdHG-DspBiA"
      },
      "execution_count": null,
      "outputs": []
    }
  ]
}